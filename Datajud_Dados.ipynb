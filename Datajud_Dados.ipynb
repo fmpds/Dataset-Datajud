{
  "cells": [
    {
      "cell_type": "code",
      "execution_count": 1,
      "metadata": {
        "id": "yU_a9mB34Ioi"
      },
      "outputs": [],
      "source": [
        "import pandas as pd\n",
        "import requests\n",
        "import json\n",
        "import seaborn as sns\n",
        "import statistics\n",
        "from scipy import stats\n",
        "import numpy as np\n",
        "import matplotlib.pyplot as plt\n",
        "import joblib\n",
        "from sklearn import preprocessing\n",
        "from sklearn.model_selection import train_test_split\n",
        "from sklearn.ensemble import RandomForestClassifier\n",
        "from sklearn.metrics import confusion_matrix, ConfusionMatrixDisplay\n",
        "from sklearn.metrics import f1_score, accuracy_score, precision_score, recall_score, classification_report"
      ]
    },
    {
      "cell_type": "code",
      "execution_count": 24,
      "metadata": {
        "id": "QA2CysLviWOo"
      },
      "outputs": [],
      "source": [
        "# Leitura de csv's com dados da TPU\n",
        "classes_tpu  = pd.read_csv('tpu-classes.csv', sep=',')\n",
        "classes_tpu.rename(columns={'codnivel1': 'classe_nivel1',\n",
        "                            'codnivel2': 'classe_nivel2',\n",
        "                            'codnivel3': 'classe_nivel3',\n",
        "                            'codnivel4': 'classe_nivel4',\n",
        "                            'codnivel5': 'classe_nivel5',\n",
        "                            'codclasse': 'codclasse'}, inplace=True)\n",
        "\n",
        "assuntos_tpu = pd.read_csv('tpu-assuntos.csv', sep=',')\n",
        "assuntos_tpu.rename(columns={'codnivel1': 'assunto_nivel1',\n",
        "                             'codnivel2': 'assunto_nivel2',\n",
        "                             'codnivel3': 'assunto_nivel3',\n",
        "                             'codnivel4': 'assunto_nivel4',\n",
        "                             'codnivel5': 'assunto_nivel5',\n",
        "                             'codassunto': 'codassunto'}, inplace=True)\n",
        "\n",
        "# Códigos de movimentos, que segunda a TPU são referentes a julgamentos\n",
        "movs_julgamento = [193,196,198,200,202,208,210,212,214,218,219,220,221,228,230,235,236,237,238,239,240,241,242,244,385,442,443,444,445,446,447,448,449,450,451,452,453,454,455,456,\n",
        " 457,458,459,460,461,462,463,464,465,466,471,472,473,853,871,884,900,901,972,973,1042,1043,1044,1045,1046,1047,1048,1049,1050,10953,10961,10964,10965,11373,11374,\n",
        " 11375,11376,11377,11378,11379,11380,11381,11394,11396,11401,11402,11403,11404,11405,11406,11407,11408,11409,11411,11795,11796,11801,11876,11877,11878,11879,12028,\n",
        " 12032,12033,12034,12041,12184,12187,12252,12253,12254,12256,12257,12258,12298,12319,12321,12322,12323,12324,12325,12326,12327,12328,12329,12330,12331,12433,12434,\n",
        " 12435,12436,12437,12438,12439,12440,12441,12442,12443,12450,12451,12452,12453,12458,12459,12475,12615,12616,12617,12649,12650,12651,12652,12653,12654,12660,12661,\n",
        " 12662,12663,12664,12665,12666,12667,12668,12669,12670,12671,12672,12673,12674,12675,12676,12677,12678,12679,12680,12681,12682,12683,12684,12685,12686,12687,12688,\n",
        " 12689,12690,12691,12692,12693,12694,12695,12696,12697,12698,12699,12700,12701,12702,12703,12704,12705,12706,12707,12708,12709,12710,12711,12712,12713,12714,12715,\n",
        " 12716,12717,12718,12719,12720,12721,12722,12723,12724,12735,12738,12792,14099,14210,14211,14213,14214,14215,14216,14217,14218,14219,14680,14777,14778,14848,14937,\n",
        " 15022,15023,15024,15026,15027,15028,15029,15030,15165,15166,15211,15212,15213,15214,15245,15249,15250,15251,15252,15253,15254,15255,15256,15257,15258,15259,15260,\n",
        " 15261,15262,15263,15264,15265,15266,15322,15408,1002013,1003301,1003302,1050009,1050080,1050083,1050147,4050028,4050079,4050080,4050083,22,246]\n",
        "\n",
        "movs_arquivamento = [22,246]\n",
        "mov_evolucao_classe = 14739\n",
        "\n",
        "# Variáveis para utilização da API do Datajud\n",
        "headers = {\n",
        "  'Authorization': 'ApiKey cDZHYzlZa0JadVREZDJCendQbXY6SkJlTzNjLV9TRENyQk1RdnFKZGRQdw==',\n",
        "  'Content-Type': 'application/json'\n",
        "}\n",
        "tribunal = 'tjrr'\n",
        "\n",
        "\n",
        "# Método para pegar apenas o primeiro assunto, pois o processo pode conter um assunto principal e N secundários\n",
        "def extrair_assunto(assuntos):\n",
        "  return assuntos[0]['codigo']\n",
        "\n",
        "\n",
        "# Método para extrair a data de julgamento\n",
        "def extrair_julgamento(movimentos):\n",
        "  for movimento in movimentos:\n",
        "    if movimento['codigo'] in movs_julgamento:\n",
        "      return movimento['dataHora']\n",
        "  return None\n",
        "\n",
        "\n",
        "def load_data_from_datajud_api(tribunal, classe):\n",
        "    url = f\"https://api-publica.datajud.cnj.jus.br/api_publica_{tribunal}/_search\"\n",
        "\n",
        "    payload = json.dumps({\n",
        "        \"size\":10000,\n",
        "        \"query\": {\n",
        "            \"bool\": {\n",
        "                \"must\": [\n",
        "                    {\"match\": {\"classe.codigo\": classe}}\n",
        "                ]\n",
        "            }\n",
        "        }\n",
        "    })\n",
        "\n",
        "    response = requests.request(\"POST\", url, headers=headers, data=payload)\n",
        "    resposta = json.loads(response.text)\n",
        "    # Os dados estão dentro de hits\n",
        "    lista = resposta['hits']['hits']\n",
        "\n",
        "    # Criando o DataFrame com os dados\n",
        "    df = pd.DataFrame.from_records(lista)\n",
        "    df = df['_source'].apply(pd.Series)\n",
        "\n",
        "    # Muitos dados estão em json dentro da coluna do DataFrame, por isso são extraídos para novas colunas\n",
        "    df[['codigo_classe','nome_classe']] = df['classe'].apply(pd.Series)\n",
        "    df[['codigo_formato','nome_formato']] = df['formato'].apply(pd.Series)\n",
        "    df[['orgao_codigoMunicipioIBGE','orgao_codigo','orgao_nome']] = df['orgaoJulgador'].apply(pd.Series)\n",
        "\n",
        "    # Aplica os métodos para extrair os assuntos e data de julgamento\n",
        "    df['data_julgamento'] = df['movimentos'].apply(extrair_julgamento)\n",
        "    df['codigo_assunto'] = df['assuntos'].apply(extrair_assunto)\n",
        "\n",
        "    # Conversão dos campos de data\n",
        "    df['data_ajuizamento'] = pd.to_datetime(df['dataAjuizamento']).dt.strftime('%Y-%m-%d')\n",
        "    df['data_julgamento'] = pd.to_datetime(df['data_julgamento']).dt.strftime('%Y-%m-%d')\n",
        "    df['data_julgamento'] = pd.to_datetime(df['data_julgamento'])\n",
        "    df['data_ajuizamento'] = pd.to_datetime(df['data_ajuizamento'])\n",
        "\n",
        "\n",
        "    # Removendo colunas desnecessárias\n",
        "    colunas_desnecessarias = ['@timestamp','id','sistema','dataHoraUltimaAtualizacao','dataAjuizamento',\n",
        "                              'classe','nome_classe','formato','nome_formato',\n",
        "                              'orgaoJulgador','orgao_codigoMunicipioIBGE','movimentos',\n",
        "                              'nivelSigilo', 'assuntos']\n",
        "    df.drop(columns=colunas_desnecessarias,inplace=True)\n",
        "\n",
        "    # Removendo os processos que não tem julgamento\n",
        "    df.dropna(subset=['data_julgamento'],inplace=True)\n",
        "\n",
        "    # Criando coluna com o tempo de julgamento\n",
        "    df['tempo_julgamento'] = (df['data_julgamento'] - df['data_ajuizamento']).dt.days\n",
        "\n",
        "\n",
        "    # Fazendo join dos DataFrame de classes e assuntos da TPU\n",
        "    df = pd.merge(df, assuntos_tpu, how='left', left_on='codigo_assunto', right_on='codassunto')\n",
        "    df = pd.merge(df, classes_tpu, how='left',  left_on='codigo_classe', right_on='codclasse')\n",
        "\n",
        "    df['numero_processo'] = df['numeroProcesso'].astype(str)\n",
        "    df.drop(columns=['descclasse','descassunto','codclasse', 'codassunto','numeroProcesso'],inplace=True)\n",
        "\n",
        "    return df\n",
        "\n",
        "\n",
        "load_data_from_datajud_api(tribunal, 1116).to_csv('data.csv', index=False, doublequote=True)"
      ]
    },
    {
      "cell_type": "code",
      "execution_count": 30,
      "metadata": {
        "id": "weNWnDq7jNnU"
      },
      "outputs": [],
      "source": [
        "df = pd.read_csv('data.csv')\n",
        "pd.set_option('display.max_columns', None)"
      ]
    },
    {
      "cell_type": "code",
      "execution_count": 31,
      "metadata": {},
      "outputs": [
        {
          "data": {
            "text/plain": [
              "(229933, 20)"
            ]
          },
          "execution_count": 31,
          "metadata": {},
          "output_type": "execute_result"
        }
      ],
      "source": [
        "df.shape"
      ]
    },
    {
      "cell_type": "code",
      "execution_count": 33,
      "metadata": {
        "id": "9V2cc_Sm51sK"
      },
      "outputs": [],
      "source": [
        "def categorizar_dias(dias):\n",
        "    if dias <= 30:\n",
        "        return 'Até 30 dias'\n",
        "    elif 31 <= dias <= 60:\n",
        "        return 'Entre 31 e 60 dias'\n",
        "    elif 61 <= dias <= 180:\n",
        "        return 'Entre 61 e 180 dias'\n",
        "    elif 181 <= dias <= 365:\n",
        "        return 'Entre 181 e 365 dias'\n",
        "    elif 366 <= dias <= 730:\n",
        "        return 'De 1 a 2 anos'\n",
        "    elif 731 <= dias <= 1460:\n",
        "        return 'De 2 a 4 anos'\n",
        "    elif 1461 <= dias <= 3650:\n",
        "        return 'De 4 a 10 anos'\n",
        "    else:\n",
        "        return 'Mais de 10 anos'"
      ]
    },
    {
      "cell_type": "code",
      "execution_count": 35,
      "metadata": {
        "id": "Jw1bbnYD3Z-v"
      },
      "outputs": [],
      "source": [
        "df['intervalo_julgamento'] = df['tempo_julgamento'].apply(categorizar_dias)\n",
        "df['grau'] = df['grau'].replace({'JE': 0.5, 'G1': 1.0, 'TR': 1.5, 'G2': 2.0})\n",
        "df.fillna(0, inplace=True)\n",
        "df = df.drop(columns=[\"tribunal\",\"data_ajuizamento\",\"data_julgamento\",\"numero_processo\"])"
      ]
    },
    {
      "cell_type": "code",
      "execution_count": 61,
      "metadata": {
        "colab": {
          "base_uri": "https://localhost:8080/",
          "height": 443
        },
        "id": "fp9ctcrf5Kkn",
        "outputId": "be389488-c8e8-424b-e8cb-4be08790398d"
      },
      "outputs": [],
      "source": [
        "df.drop(columns=['tempo_julgamento'], inplace = True)"
      ]
    },
    {
      "cell_type": "code",
      "execution_count": 62,
      "metadata": {},
      "outputs": [],
      "source": [
        "columns_objects = [\"grau\",\n",
        "\"codigo_classe\",\n",
        "\"codigo_formato\",\n",
        "\"orgao_codigo\",\n",
        "\"assunto_nivel1\",\n",
        "\"assunto_nivel2\",\n",
        "\"assunto_nivel3\",\n",
        "\"assunto_nivel4\",\n",
        "\"assunto_nivel5\",\n",
        "\"classe_nivel1\",\n",
        "\"classe_nivel2\",\n",
        "\"classe_nivel3\",\n",
        "\"classe_nivel4\",\n",
        "\"classe_nivel5\",\n",
        "\"intervalo_julgamento\"]\n",
        "\n",
        "for i in columns_objects:\n",
        "    df[i] = df[i].astype(str)"
      ]
    },
    {
      "cell_type": "code",
      "execution_count": 63,
      "metadata": {
        "id": "2hv1_Q46maDw"
      },
      "outputs": [],
      "source": [
        "x = df.drop(columns = [\"intervalo_julgamento\"])\n",
        "y = df[\"intervalo_julgamento\"]\n",
        "\n",
        "x_train, x_test, y_train, y_test = train_test_split(x, y, test_size = 0.2, random_state = 42)"
      ]
    },
    {
      "cell_type": "code",
      "execution_count": 88,
      "metadata": {},
      "outputs": [],
      "source": [
        "from sklearn.ensemble import GradientBoostingClassifier\n",
        "from sklearn.model_selection import GridSearchCV"
      ]
    },
    {
      "cell_type": "code",
      "execution_count": 93,
      "metadata": {},
      "outputs": [
        {
          "name": "stderr",
          "output_type": "stream",
          "text": [
            "c:\\Users\\sfmpd\\anaconda3\\lib\\site-packages\\sklearn\\model_selection\\_validation.py:378: FitFailedWarning: \n",
            "40 fits failed out of a total of 80.\n",
            "The score on these train-test partitions for these parameters will be set to nan.\n",
            "If these failures are not expected, you can try to debug them by setting error_score='raise'.\n",
            "\n",
            "Below are more details about the failures:\n",
            "--------------------------------------------------------------------------------\n",
            "40 fits failed with the following error:\n",
            "Traceback (most recent call last):\n",
            "  File \"c:\\Users\\sfmpd\\anaconda3\\lib\\site-packages\\sklearn\\model_selection\\_validation.py\", line 686, in _fit_and_score\n",
            "    estimator.fit(X_train, y_train, **fit_params)\n",
            "  File \"c:\\Users\\sfmpd\\anaconda3\\lib\\site-packages\\sklearn\\ensemble\\_gb.py\", line 420, in fit\n",
            "    self._validate_params()\n",
            "  File \"c:\\Users\\sfmpd\\anaconda3\\lib\\site-packages\\sklearn\\base.py\", line 581, in _validate_params\n",
            "    validate_parameter_constraints(\n",
            "  File \"c:\\Users\\sfmpd\\anaconda3\\lib\\site-packages\\sklearn\\utils\\_param_validation.py\", line 97, in validate_parameter_constraints\n",
            "    raise InvalidParameterError(\n",
            "sklearn.utils._param_validation.InvalidParameterError: The 'criterion' parameter of GradientBoostingClassifier must be a str among {'friedman_mse', 'squared_error'}. Got 'mae' instead.\n",
            "\n",
            "  warnings.warn(some_fits_failed_message, FitFailedWarning)\n",
            "c:\\Users\\sfmpd\\anaconda3\\lib\\site-packages\\sklearn\\model_selection\\_search.py:952: UserWarning: One or more of the test scores are non-finite: [0.32538352 0.33539735 0.40273229 0.42778313        nan        nan\n",
            "        nan        nan]\n",
            "  warnings.warn(\n"
          ]
        },
        {
          "data": {
            "text/html": [
              "<style>#sk-container-id-1 {color: black;background-color: white;}#sk-container-id-1 pre{padding: 0;}#sk-container-id-1 div.sk-toggleable {background-color: white;}#sk-container-id-1 label.sk-toggleable__label {cursor: pointer;display: block;width: 100%;margin-bottom: 0;padding: 0.3em;box-sizing: border-box;text-align: center;}#sk-container-id-1 label.sk-toggleable__label-arrow:before {content: \"▸\";float: left;margin-right: 0.25em;color: #696969;}#sk-container-id-1 label.sk-toggleable__label-arrow:hover:before {color: black;}#sk-container-id-1 div.sk-estimator:hover label.sk-toggleable__label-arrow:before {color: black;}#sk-container-id-1 div.sk-toggleable__content {max-height: 0;max-width: 0;overflow: hidden;text-align: left;background-color: #f0f8ff;}#sk-container-id-1 div.sk-toggleable__content pre {margin: 0.2em;color: black;border-radius: 0.25em;background-color: #f0f8ff;}#sk-container-id-1 input.sk-toggleable__control:checked~div.sk-toggleable__content {max-height: 200px;max-width: 100%;overflow: auto;}#sk-container-id-1 input.sk-toggleable__control:checked~label.sk-toggleable__label-arrow:before {content: \"▾\";}#sk-container-id-1 div.sk-estimator input.sk-toggleable__control:checked~label.sk-toggleable__label {background-color: #d4ebff;}#sk-container-id-1 div.sk-label input.sk-toggleable__control:checked~label.sk-toggleable__label {background-color: #d4ebff;}#sk-container-id-1 input.sk-hidden--visually {border: 0;clip: rect(1px 1px 1px 1px);clip: rect(1px, 1px, 1px, 1px);height: 1px;margin: -1px;overflow: hidden;padding: 0;position: absolute;width: 1px;}#sk-container-id-1 div.sk-estimator {font-family: monospace;background-color: #f0f8ff;border: 1px dotted black;border-radius: 0.25em;box-sizing: border-box;margin-bottom: 0.5em;}#sk-container-id-1 div.sk-estimator:hover {background-color: #d4ebff;}#sk-container-id-1 div.sk-parallel-item::after {content: \"\";width: 100%;border-bottom: 1px solid gray;flex-grow: 1;}#sk-container-id-1 div.sk-label:hover label.sk-toggleable__label {background-color: #d4ebff;}#sk-container-id-1 div.sk-serial::before {content: \"\";position: absolute;border-left: 1px solid gray;box-sizing: border-box;top: 0;bottom: 0;left: 50%;z-index: 0;}#sk-container-id-1 div.sk-serial {display: flex;flex-direction: column;align-items: center;background-color: white;padding-right: 0.2em;padding-left: 0.2em;position: relative;}#sk-container-id-1 div.sk-item {position: relative;z-index: 1;}#sk-container-id-1 div.sk-parallel {display: flex;align-items: stretch;justify-content: center;background-color: white;position: relative;}#sk-container-id-1 div.sk-item::before, #sk-container-id-1 div.sk-parallel-item::before {content: \"\";position: absolute;border-left: 1px solid gray;box-sizing: border-box;top: 0;bottom: 0;left: 50%;z-index: -1;}#sk-container-id-1 div.sk-parallel-item {display: flex;flex-direction: column;z-index: 1;position: relative;background-color: white;}#sk-container-id-1 div.sk-parallel-item:first-child::after {align-self: flex-end;width: 50%;}#sk-container-id-1 div.sk-parallel-item:last-child::after {align-self: flex-start;width: 50%;}#sk-container-id-1 div.sk-parallel-item:only-child::after {width: 0;}#sk-container-id-1 div.sk-dashed-wrapped {border: 1px dashed gray;margin: 0 0.4em 0.5em 0.4em;box-sizing: border-box;padding-bottom: 0.4em;background-color: white;}#sk-container-id-1 div.sk-label label {font-family: monospace;font-weight: bold;display: inline-block;line-height: 1.2em;}#sk-container-id-1 div.sk-label-container {text-align: center;}#sk-container-id-1 div.sk-container {/* jupyter's `normalize.less` sets `[hidden] { display: none; }` but bootstrap.min.css set `[hidden] { display: none !important; }` so we also need the `!important` here to be able to override the default hidden behavior on the sphinx rendered scikit-learn.org. See: https://github.com/scikit-learn/scikit-learn/issues/21755 */display: inline-block !important;position: relative;}#sk-container-id-1 div.sk-text-repr-fallback {display: none;}</style><div id=\"sk-container-id-1\" class=\"sk-top-container\"><div class=\"sk-text-repr-fallback\"><pre>GridSearchCV(cv=10, estimator=GradientBoostingClassifier(),\n",
              "             param_grid={&#x27;criterion&#x27;: [&#x27;friedman_mse&#x27;, &#x27;mae&#x27;],\n",
              "                         &#x27;learning_rate&#x27;: [0.01, 0.025], &#x27;loss&#x27;: [&#x27;log_loss&#x27;],\n",
              "                         &#x27;max_depth&#x27;: [10, 12], &#x27;n_estimators&#x27;: [10]})</pre><b>In a Jupyter environment, please rerun this cell to show the HTML representation or trust the notebook. <br />On GitHub, the HTML representation is unable to render, please try loading this page with nbviewer.org.</b></div><div class=\"sk-container\" hidden><div class=\"sk-item sk-dashed-wrapped\"><div class=\"sk-label-container\"><div class=\"sk-label sk-toggleable\"><input class=\"sk-toggleable__control sk-hidden--visually\" id=\"sk-estimator-id-1\" type=\"checkbox\" ><label for=\"sk-estimator-id-1\" class=\"sk-toggleable__label sk-toggleable__label-arrow\">GridSearchCV</label><div class=\"sk-toggleable__content\"><pre>GridSearchCV(cv=10, estimator=GradientBoostingClassifier(),\n",
              "             param_grid={&#x27;criterion&#x27;: [&#x27;friedman_mse&#x27;, &#x27;mae&#x27;],\n",
              "                         &#x27;learning_rate&#x27;: [0.01, 0.025], &#x27;loss&#x27;: [&#x27;log_loss&#x27;],\n",
              "                         &#x27;max_depth&#x27;: [10, 12], &#x27;n_estimators&#x27;: [10]})</pre></div></div></div><div class=\"sk-parallel\"><div class=\"sk-parallel-item\"><div class=\"sk-item\"><div class=\"sk-label-container\"><div class=\"sk-label sk-toggleable\"><input class=\"sk-toggleable__control sk-hidden--visually\" id=\"sk-estimator-id-2\" type=\"checkbox\" ><label for=\"sk-estimator-id-2\" class=\"sk-toggleable__label sk-toggleable__label-arrow\">estimator: GradientBoostingClassifier</label><div class=\"sk-toggleable__content\"><pre>GradientBoostingClassifier()</pre></div></div></div><div class=\"sk-serial\"><div class=\"sk-item\"><div class=\"sk-estimator sk-toggleable\"><input class=\"sk-toggleable__control sk-hidden--visually\" id=\"sk-estimator-id-3\" type=\"checkbox\" ><label for=\"sk-estimator-id-3\" class=\"sk-toggleable__label sk-toggleable__label-arrow\">GradientBoostingClassifier</label><div class=\"sk-toggleable__content\"><pre>GradientBoostingClassifier()</pre></div></div></div></div></div></div></div></div></div></div>"
            ],
            "text/plain": [
              "GridSearchCV(cv=10, estimator=GradientBoostingClassifier(),\n",
              "             param_grid={'criterion': ['friedman_mse', 'mae'],\n",
              "                         'learning_rate': [0.01, 0.025], 'loss': ['log_loss'],\n",
              "                         'max_depth': [10, 12], 'n_estimators': [10]})"
            ]
          },
          "execution_count": 93,
          "metadata": {},
          "output_type": "execute_result"
        }
      ],
      "source": [
        "parameters = {\n",
        "    \"loss\":[\"log_loss\"],\n",
        "    \"learning_rate\": [0.01, 0.025],\n",
        "    \"max_depth\":[10,12],\n",
        "    \"criterion\": [\"friedman_mse\",  \"mae\"],\n",
        "    \"n_estimators\":[10]\n",
        "    }\n",
        "\n",
        "clf = GridSearchCV(GradientBoostingClassifier(), parameters, cv=10)\n",
        "\n",
        "clf.fit(x_train, y_train)"
      ]
    },
    {
      "cell_type": "code",
      "execution_count": 95,
      "metadata": {},
      "outputs": [
        {
          "name": "stdout",
          "output_type": "stream",
          "text": [
            "{'criterion': 'friedman_mse', 'learning_rate': 0.025, 'loss': 'log_loss', 'max_depth': 12, 'n_estimators': 10}\n"
          ]
        }
      ],
      "source": [
        "print(clf.best_params_)\n"
      ]
    },
    {
      "cell_type": "code",
      "execution_count": 96,
      "metadata": {},
      "outputs": [
        {
          "name": "stdout",
          "output_type": "stream",
          "text": [
            "      Iter       Train Loss   Remaining Time \n",
            "         1           1.6560           34.87s\n",
            "         2           1.6278           32.64s\n",
            "         3           1.6031           29.47s\n",
            "         4           1.5810           25.46s\n",
            "         5           1.5608           21.35s\n",
            "         6           1.5421           17.19s\n",
            "         7           1.5247           12.92s\n",
            "         8           1.5085            8.65s\n",
            "         9           1.4934            4.33s\n",
            "        10           1.4792            0.00s\n"
          ]
        }
      ],
      "source": [
        "clf = GradientBoostingClassifier(n_estimators=10,\n",
        "                                 loss= 'log_loss',\n",
        "                                 learning_rate=0.025,\n",
        "                                 max_depth=12,\n",
        "                                 criterion='friedman_mse',\n",
        "                                 random_state=0,\n",
        "                                 verbose=1).fit(x_train, y_train)"
      ]
    },
    {
      "cell_type": "code",
      "execution_count": 97,
      "metadata": {},
      "outputs": [],
      "source": [
        "y_predicoes = clf.predict(x_test)"
      ]
    },
    {
      "cell_type": "code",
      "execution_count": 98,
      "metadata": {},
      "outputs": [
        {
          "data": {
            "text/plain": [
              "array(['Entre 61 e 180 dias', 'Entre 61 e 180 dias',\n",
              "       'Entre 181 e 365 dias', ..., 'Entre 181 e 365 dias',\n",
              "       'Entre 61 e 180 dias', 'Entre 61 e 180 dias'], dtype=object)"
            ]
          },
          "execution_count": 98,
          "metadata": {},
          "output_type": "execute_result"
        }
      ],
      "source": [
        "y_predicoes"
      ]
    },
    {
      "cell_type": "code",
      "execution_count": 99,
      "metadata": {
        "colab": {
          "base_uri": "https://localhost:8080/"
        },
        "id": "C5kmUdWtuxEU",
        "outputId": "8b5103a8-bec4-4ff7-bc17-f78a0f1180b5"
      },
      "outputs": [
        {
          "name": "stdout",
          "output_type": "stream",
          "text": [
            "                      precision    recall  f1-score   support\n",
            "\n",
            "         Até 30 dias       0.89      0.20      0.32      5551\n",
            "       De 1 a 2 anos       0.78      0.11      0.20      6682\n",
            "       De 2 a 4 anos       0.87      0.12      0.20      1945\n",
            "      De 4 a 10 anos       0.56      0.06      0.11       551\n",
            "Entre 181 e 365 dias       0.59      0.31      0.41     10946\n",
            "  Entre 31 e 60 dias       0.85      0.06      0.11      5897\n",
            " Entre 61 e 180 dias       0.37      0.95      0.53     14281\n",
            "     Mais de 10 anos       0.68      0.20      0.31       134\n",
            "\n",
            "            accuracy                           0.42     45987\n",
            "           macro avg       0.70      0.25      0.28     45987\n",
            "        weighted avg       0.63      0.42      0.35     45987\n",
            "\n"
          ]
        }
      ],
      "source": [
        "print(classification_report(y_test, y_predicoes))"
      ]
    },
    {
      "cell_type": "code",
      "execution_count": 100,
      "metadata": {
        "id": "J4L33eLPw9if"
      },
      "outputs": [],
      "source": [
        "matriz_confusao = confusion_matrix(y_true = y_test,\n",
        "                                   y_pred = y_predicoes,\n",
        "                                   labels=[\n",
        "                                       'Até 30 dias',\n",
        "                                       'De 1 a 2 anos',\n",
        "                                       'De 2 a 4 anos',\n",
        "                                       'De 4 a 10 anos',\n",
        "                                       'Entre 181 e 365 dias',\n",
        "                                       'Entre 31 e 60 dias',\n",
        "                                       'Mais de 10 anos'\n",
        "                                       ]\n",
        "                                   )\n",
        "#Definindo a matriz de confusão."
      ]
    },
    {
      "cell_type": "code",
      "execution_count": 101,
      "metadata": {
        "colab": {
          "base_uri": "https://localhost:8080/",
          "height": 748
        },
        "id": "erTdM3cszXUh",
        "outputId": "b13e7d6a-6038-4344-971c-8a7130b381c4"
      },
      "outputs": [
        {
          "data": {
            "text/plain": [
              "(array([0, 1, 2, 3, 4, 5, 6]),\n",
              " [Text(0, 0, 'Até 30 dias'),\n",
              "  Text(1, 0, 'De 1 a 2 anos'),\n",
              "  Text(2, 0, 'De 2 a 4 anos'),\n",
              "  Text(3, 0, 'De 4 a 10 anos'),\n",
              "  Text(4, 0, 'Entre 181 e 365 dias'),\n",
              "  Text(5, 0, 'Entre 31 e 60 dias'),\n",
              "  Text(6, 0, 'Mais de 10 anos')])"
            ]
          },
          "execution_count": 101,
          "metadata": {},
          "output_type": "execute_result"
        },
        {
          "data": {
            "text/plain": [
              "<Figure size 1500x500 with 0 Axes>"
            ]
          },
          "metadata": {},
          "output_type": "display_data"
        },
        {
          "data": {
            "image/png": "[encoded data removed]",
            "text/plain": [
              "<Figure size 640x480 with 2 Axes>"
            ]
          },
          "metadata": {},
          "output_type": "display_data"
        }
      ],
      "source": [
        "figure = plt.figure(figsize=(15, 5))\n",
        "disp = ConfusionMatrixDisplay(confusion_matrix = matriz_confusao, display_labels=['Até 30 dias','De 1 a 2 anos','De 2 a 4 anos','De 4 a 10 anos','Entre 181 e 365 dias','Entre 31 e 60 dias','Mais de 10 anos'])\n",
        "disp.plot(values_format='d')\n",
        "plt.xticks(rotation=90)"
      ]
    },
    {
      "cell_type": "code",
      "execution_count": 102,
      "metadata": {
        "colab": {
          "base_uri": "https://localhost:8080/"
        },
        "id": "A_2U4Jyw-56V",
        "outputId": "5536a2c8-ce7f-4ddd-c622-3f26e44aa4d6"
      },
      "outputs": [
        {
          "data": {
            "text/plain": [
              "['ml_gmbm_datajud.pkl']"
            ]
          },
          "execution_count": 102,
          "metadata": {},
          "output_type": "execute_result"
        }
      ],
      "source": [
        "joblib.dump(clf, \"ml_gmbm_datajud.pkl\")"
      ]
    },
    {
      "cell_type": "code",
      "execution_count": 49,
      "metadata": {
        "id": "wXe7Q9rT_e7U"
      },
      "outputs": [],
      "source": [
        "modelo_carregado = joblib.load(\"ml_datajud.pkl\")"
      ]
    },
    {
      "cell_type": "code",
      "execution_count": 50,
      "metadata": {
        "id": "-7NtNnNX_6R_"
      },
      "outputs": [],
      "source": [
        "teste_predicao = x_test.iloc[0:1]"
      ]
    },
    {
      "cell_type": "code",
      "execution_count": 51,
      "metadata": {
        "colab": {
          "base_uri": "https://localhost:8080/",
          "height": 109
        },
        "id": "sLKjuGwQAIqW",
        "outputId": "cb58161f-43dd-4d08-9d6e-f3fa222ef7dd"
      },
      "outputs": [
        {
          "data": {
            "application/vnd.google.colaboratory.intrinsic+json": {
              "summary": "{\n  \"name\": \"teste_predicao\",\n  \"rows\": 1,\n  \"fields\": [\n    {\n      \"column\": \"grau\",\n      \"properties\": {\n        \"dtype\": \"number\",\n        \"std\": null,\n        \"min\": 1.0,\n        \"max\": 1.0,\n        \"num_unique_values\": 1,\n        \"samples\": [\n          1.0\n        ],\n        \"semantic_type\": \"\",\n        \"description\": \"\"\n      }\n    },\n    {\n      \"column\": \"codigo_classe\",\n      \"properties\": {\n        \"dtype\": \"number\",\n        \"std\": null,\n        \"min\": 1116,\n        \"max\": 1116,\n        \"num_unique_values\": 1,\n        \"samples\": [\n          1116\n        ],\n        \"semantic_type\": \"\",\n        \"description\": \"\"\n      }\n    },\n    {\n      \"column\": \"codigo_formato\",\n      \"properties\": {\n        \"dtype\": \"number\",\n        \"std\": null,\n        \"min\": 1,\n        \"max\": 1,\n        \"num_unique_values\": 1,\n        \"samples\": [\n          1\n        ],\n        \"semantic_type\": \"\",\n        \"description\": \"\"\n      }\n    },\n    {\n      \"column\": \"orgao_codigo\",\n      \"properties\": {\n        \"dtype\": \"number\",\n        \"std\": null,\n        \"min\": 2770,\n        \"max\": 2770,\n        \"num_unique_values\": 1,\n        \"samples\": [\n          2770\n        ],\n        \"semantic_type\": \"\",\n        \"description\": \"\"\n      }\n    },\n    {\n      \"column\": \"codigo_assunto\",\n      \"properties\": {\n        \"dtype\": \"number\",\n        \"std\": null,\n        \"min\": 5946,\n        \"max\": 5946,\n        \"num_unique_values\": 1,\n        \"samples\": [\n          5946\n        ],\n        \"semantic_type\": \"\",\n        \"description\": \"\"\n      }\n    },\n    {\n      \"column\": \"tempo_julgamento\",\n      \"properties\": {\n        \"dtype\": \"number\",\n        \"std\": null,\n        \"min\": 5274,\n        \"max\": 5274,\n        \"num_unique_values\": 1,\n        \"samples\": [\n          5274\n        ],\n        \"semantic_type\": \"\",\n        \"description\": \"\"\n      }\n    },\n    {\n      \"column\": \"assunto_nivel1\",\n      \"properties\": {\n        \"dtype\": \"number\",\n        \"std\": null,\n        \"min\": 14,\n        \"max\": 14,\n        \"num_unique_values\": 1,\n        \"samples\": [\n          14\n        ],\n        \"semantic_type\": \"\",\n        \"description\": \"\"\n      }\n    },\n    {\n      \"column\": \"assunto_nivel2\",\n      \"properties\": {\n        \"dtype\": \"number\",\n        \"std\": null,\n        \"min\": 5916.0,\n        \"max\": 5916.0,\n        \"num_unique_values\": 1,\n        \"samples\": [\n          5916.0\n        ],\n        \"semantic_type\": \"\",\n        \"description\": \"\"\n      }\n    },\n    {\n      \"column\": \"assunto_nivel3\",\n      \"properties\": {\n        \"dtype\": \"number\",\n        \"std\": null,\n        \"min\": 5946.0,\n        \"max\": 5946.0,\n        \"num_unique_values\": 1,\n        \"samples\": [\n          5946.0\n        ],\n        \"semantic_type\": \"\",\n        \"description\": \"\"\n      }\n    },\n    {\n      \"column\": \"assunto_nivel4\",\n      \"properties\": {\n        \"dtype\": \"number\",\n        \"std\": null,\n        \"min\": 0.0,\n        \"max\": 0.0,\n        \"num_unique_values\": 1,\n        \"samples\": [\n          0.0\n        ],\n        \"semantic_type\": \"\",\n        \"description\": \"\"\n      }\n    },\n    {\n      \"column\": \"assunto_nivel5\",\n      \"properties\": {\n        \"dtype\": \"number\",\n        \"std\": null,\n        \"min\": 0.0,\n        \"max\": 0.0,\n        \"num_unique_values\": 1,\n        \"samples\": [\n          0.0\n        ],\n        \"semantic_type\": \"\",\n        \"description\": \"\"\n      }\n    },\n    {\n      \"column\": \"classe_nivel1\",\n      \"properties\": {\n        \"dtype\": \"number\",\n        \"std\": null,\n        \"min\": 2,\n        \"max\": 2,\n        \"num_unique_values\": 1,\n        \"samples\": [\n          2\n        ],\n        \"semantic_type\": \"\",\n        \"description\": \"\"\n      }\n    },\n    {\n      \"column\": \"classe_nivel2\",\n      \"properties\": {\n        \"dtype\": \"number\",\n        \"std\": null,\n        \"min\": 158.0,\n        \"max\": 158.0,\n        \"num_unique_values\": 1,\n        \"samples\": [\n          158.0\n        ],\n        \"semantic_type\": \"\",\n        \"description\": \"\"\n      }\n    },\n    {\n      \"column\": \"classe_nivel3\",\n      \"properties\": {\n        \"dtype\": \"number\",\n        \"std\": null,\n        \"min\": 1116.0,\n        \"max\": 1116.0,\n        \"num_unique_values\": 1,\n        \"samples\": [\n          1116.0\n        ],\n        \"semantic_type\": \"\",\n        \"description\": \"\"\n      }\n    },\n    {\n      \"column\": \"classe_nivel4\",\n      \"properties\": {\n        \"dtype\": \"number\",\n        \"std\": null,\n        \"min\": 0.0,\n        \"max\": 0.0,\n        \"num_unique_values\": 1,\n        \"samples\": [\n          0.0\n        ],\n        \"semantic_type\": \"\",\n        \"description\": \"\"\n      }\n    },\n    {\n      \"column\": \"classe_nivel5\",\n      \"properties\": {\n        \"dtype\": \"number\",\n        \"std\": null,\n        \"min\": 0.0,\n        \"max\": 0.0,\n        \"num_unique_values\": 1,\n        \"samples\": [\n          0.0\n        ],\n        \"semantic_type\": \"\",\n        \"description\": \"\"\n      }\n    }\n  ]\n}",
              "type": "dataframe",
              "variable_name": "teste_predicao"
            },
            "text/html": [
              "\n",
              "  <div id=\"df-c083e40e-5c65-4bff-8cf9-c02e905acf06\" class=\"colab-df-container\">\n",
              "    <div>\n",
              "<style scoped>\n",
              "    .dataframe tbody tr th:only-of-type {\n",
              "        vertical-align: middle;\n",
              "    }\n",
              "\n",
              "    .dataframe tbody tr th {\n",
              "        vertical-align: top;\n",
              "    }\n",
              "\n",
              "    .dataframe thead th {\n",
              "        text-align: right;\n",
              "    }\n",
              "</style>\n",
              "<table border=\"1\" class=\"dataframe\">\n",
              "  <thead>\n",
              "    <tr style=\"text-align: right;\">\n",
              "      <th></th>\n",
              "      <th>grau</th>\n",
              "      <th>codigo_classe</th>\n",
              "      <th>codigo_formato</th>\n",
              "      <th>orgao_codigo</th>\n",
              "      <th>codigo_assunto</th>\n",
              "      <th>tempo_julgamento</th>\n",
              "      <th>assunto_nivel1</th>\n",
              "      <th>assunto_nivel2</th>\n",
              "      <th>assunto_nivel3</th>\n",
              "      <th>assunto_nivel4</th>\n",
              "      <th>assunto_nivel5</th>\n",
              "      <th>classe_nivel1</th>\n",
              "      <th>classe_nivel2</th>\n",
              "      <th>classe_nivel3</th>\n",
              "      <th>classe_nivel4</th>\n",
              "      <th>classe_nivel5</th>\n",
              "    </tr>\n",
              "  </thead>\n",
              "  <tbody>\n",
              "    <tr>\n",
              "      <th>291</th>\n",
              "      <td>1.0</td>\n",
              "      <td>1116</td>\n",
              "      <td>1</td>\n",
              "      <td>2770</td>\n",
              "      <td>5946</td>\n",
              "      <td>5274</td>\n",
              "      <td>14</td>\n",
              "      <td>5916.0</td>\n",
              "      <td>5946.0</td>\n",
              "      <td>0.0</td>\n",
              "      <td>0.0</td>\n",
              "      <td>2</td>\n",
              "      <td>158.0</td>\n",
              "      <td>1116.0</td>\n",
              "      <td>0.0</td>\n",
              "      <td>0.0</td>\n",
              "    </tr>\n",
              "  </tbody>\n",
              "</table>\n",
              "</div>\n",
              "    <div class=\"colab-df-buttons\">\n",
              "\n",
              "  <div class=\"colab-df-container\">\n",
              "    <button class=\"colab-df-convert\" onclick=\"convertToInteractive('df-c083e40e-5c65-4bff-8cf9-c02e905acf06')\"\n",
              "            title=\"Convert this dataframe to an interactive table.\"\n",
              "            style=\"display:none;\">\n",
              "\n",
              "  <svg xmlns=\"http://www.w3.org/2000/svg\" height=\"24px\" viewBox=\"0 -960 960 960\">\n",
              "    <path d=\"M120-120v-720h720v720H120Zm60-500h600v-160H180v160Zm220 220h160v-160H400v160Zm0 220h160v-160H400v160ZM180-400h160v-160H180v160Zm440 0h160v-160H620v160ZM180-180h160v-160H180v160Zm440 0h160v-160H620v160Z\"/>\n",
              "  </svg>\n",
              "    </button>\n",
              "\n",
              "  <style>\n",
              "    .colab-df-container {\n",
              "      display:flex;\n",
              "      gap: 12px;\n",
              "    }\n",
              "\n",
              "    .colab-df-convert {\n",
              "      background-color: #E8F0FE;\n",
              "      border: none;\n",
              "      border-radius: 50%;\n",
              "      cursor: pointer;\n",
              "      display: none;\n",
              "      fill: #1967D2;\n",
              "      height: 32px;\n",
              "      padding: 0 0 0 0;\n",
              "      width: 32px;\n",
              "    }\n",
              "\n",
              "    .colab-df-convert:hover {\n",
              "      background-color: #E2EBFA;\n",
              "      box-shadow: 0px 1px 2px rgba(60, 64, 67, 0.3), 0px 1px 3px 1px rgba(60, 64, 67, 0.15);\n",
              "      fill: #174EA6;\n",
              "    }\n",
              "\n",
              "    .colab-df-buttons div {\n",
              "      margin-bottom: 4px;\n",
              "    }\n",
              "\n",
              "    [theme=dark] .colab-df-convert {\n",
              "      background-color: #3B4455;\n",
              "      fill: #D2E3FC;\n",
              "    }\n",
              "\n",
              "    [theme=dark] .colab-df-convert:hover {\n",
              "      background-color: #434B5C;\n",
              "      box-shadow: 0px 1px 3px 1px rgba(0, 0, 0, 0.15);\n",
              "      filter: drop-shadow(0px 1px 2px rgba(0, 0, 0, 0.3));\n",
              "      fill: #FFFFFF;\n",
              "    }\n",
              "  </style>\n",
              "\n",
              "    <script>\n",
              "      const buttonEl =\n",
              "        document.querySelector('#df-c083e40e-5c65-4bff-8cf9-c02e905acf06 button.colab-df-convert');\n",
              "      buttonEl.style.display =\n",
              "        google.colab.kernel.accessAllowed ? 'block' : 'none';\n",
              "\n",
              "      async function convertToInteractive(key) {\n",
              "        const element = document.querySelector('#df-c083e40e-5c65-4bff-8cf9-c02e905acf06');\n",
              "        const dataTable =\n",
              "          await google.colab.kernel.invokeFunction('convertToInteractive',\n",
              "                                                    [key], {});\n",
              "        if (!dataTable) return;\n",
              "\n",
              "        const docLinkHtml = 'Like what you see? Visit the ' +\n",
              "          '<a target=\"_blank\" href=https://colab.research.google.com/notebooks/data_table.ipynb>data table notebook</a>'\n",
              "          + ' to learn more about interactive tables.';\n",
              "        element.innerHTML = '';\n",
              "        dataTable['output_type'] = 'display_data';\n",
              "        await google.colab.output.renderOutput(dataTable, element);\n",
              "        const docLink = document.createElement('div');\n",
              "        docLink.innerHTML = docLinkHtml;\n",
              "        element.appendChild(docLink);\n",
              "      }\n",
              "    </script>\n",
              "  </div>\n",
              "\n",
              "\n",
              "  <div id=\"id_207b4fd6-d487-4583-9746-93b866d904a6\">\n",
              "    <style>\n",
              "      .colab-df-generate {\n",
              "        background-color: #E8F0FE;\n",
              "        border: none;\n",
              "        border-radius: 50%;\n",
              "        cursor: pointer;\n",
              "        display: none;\n",
              "        fill: #1967D2;\n",
              "        height: 32px;\n",
              "        padding: 0 0 0 0;\n",
              "        width: 32px;\n",
              "      }\n",
              "\n",
              "      .colab-df-generate:hover {\n",
              "        background-color: #E2EBFA;\n",
              "        box-shadow: 0px 1px 2px rgba(60, 64, 67, 0.3), 0px 1px 3px 1px rgba(60, 64, 67, 0.15);\n",
              "        fill: #174EA6;\n",
              "      }\n",
              "\n",
              "      [theme=dark] .colab-df-generate {\n",
              "        background-color: #3B4455;\n",
              "        fill: #D2E3FC;\n",
              "      }\n",
              "\n",
              "      [theme=dark] .colab-df-generate:hover {\n",
              "        background-color: #434B5C;\n",
              "        box-shadow: 0px 1px 3px 1px rgba(0, 0, 0, 0.15);\n",
              "        filter: drop-shadow(0px 1px 2px rgba(0, 0, 0, 0.3));\n",
              "        fill: #FFFFFF;\n",
              "      }\n",
              "    </style>\n",
              "    <button class=\"colab-df-generate\" onclick=\"generateWithVariable('teste_predicao')\"\n",
              "            title=\"Generate code using this dataframe.\"\n",
              "            style=\"display:none;\">\n",
              "\n",
              "  <svg xmlns=\"http://www.w3.org/2000/svg\" height=\"24px\"viewBox=\"0 0 24 24\"\n",
              "       width=\"24px\">\n",
              "    <path d=\"M7,19H8.4L18.45,9,17,7.55,7,17.6ZM5,21V16.75L18.45,3.32a2,2,0,0,1,2.83,0l1.4,1.43a1.91,1.91,0,0,1,.58,1.4,1.91,1.91,0,0,1-.58,1.4L9.25,21ZM18.45,9,17,7.55Zm-12,3A5.31,5.31,0,0,0,4.9,8.1,5.31,5.31,0,0,0,1,6.5,5.31,5.31,0,0,0,4.9,4.9,5.31,5.31,0,0,0,6.5,1,5.31,5.31,0,0,0,8.1,4.9,5.31,5.31,0,0,0,12,6.5,5.46,5.46,0,0,0,6.5,12Z\"/>\n",
              "  </svg>\n",
              "    </button>\n",
              "    <script>\n",
              "      (() => {\n",
              "      const buttonEl =\n",
              "        document.querySelector('#id_207b4fd6-d487-4583-9746-93b866d904a6 button.colab-df-generate');\n",
              "      buttonEl.style.display =\n",
              "        google.colab.kernel.accessAllowed ? 'block' : 'none';\n",
              "\n",
              "      buttonEl.onclick = () => {\n",
              "        google.colab.notebook.generateWithVariable('teste_predicao');\n",
              "      }\n",
              "      })();\n",
              "    </script>\n",
              "  </div>\n",
              "\n",
              "    </div>\n",
              "  </div>\n"
            ],
            "text/plain": [
              "     grau  codigo_classe  codigo_formato  orgao_codigo  codigo_assunto  \\\n",
              "291   1.0           1116               1          2770            5946   \n",
              "\n",
              "     tempo_julgamento  assunto_nivel1  assunto_nivel2  assunto_nivel3  \\\n",
              "291              5274              14          5916.0          5946.0   \n",
              "\n",
              "     assunto_nivel4  assunto_nivel5  classe_nivel1  classe_nivel2  \\\n",
              "291             0.0             0.0              2          158.0   \n",
              "\n",
              "     classe_nivel3  classe_nivel4  classe_nivel5  \n",
              "291         1116.0            0.0            0.0  "
            ]
          },
          "execution_count": 51,
          "metadata": {},
          "output_type": "execute_result"
        }
      ],
      "source": [
        "teste_predicao"
      ]
    },
    {
      "cell_type": "code",
      "execution_count": 52,
      "metadata": {
        "id": "hawZHLwxABep"
      },
      "outputs": [],
      "source": [
        "previsoes = modelo_carregado.predict(teste_predicao)"
      ]
    },
    {
      "cell_type": "code",
      "execution_count": 53,
      "metadata": {
        "colab": {
          "base_uri": "https://localhost:8080/"
        },
        "id": "90qQ2qOpAb_5",
        "outputId": "4321e884-fb5d-477d-e0ea-707ac48d750c"
      },
      "outputs": [
        {
          "data": {
            "text/plain": [
              "array(['Mais de 10 anos'], dtype=object)"
            ]
          },
          "execution_count": 53,
          "metadata": {},
          "output_type": "execute_result"
        }
      ],
      "source": [
        "previsoes"
      ]
    }
  ],
  "metadata": {
    "colab": {
      "provenance": []
    },
    "kernelspec": {
      "display_name": "Python 3",
      "name": "python3"
    },
    "language_info": {
      "codemirror_mode": {
        "name": "ipython",
        "version": 3
      },
      "file_extension": ".py",
      "mimetype": "text/x-python",
      "name": "python",
      "nbconvert_exporter": "python",
      "pygments_lexer": "ipython3",
      "version": "3.10.9"
    }
  },
  "nbformat": 4,
  "nbformat_minor": 0
}
